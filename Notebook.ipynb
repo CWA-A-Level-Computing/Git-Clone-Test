{
 "cells": [
  {
   "cell_type": "markdown",
   "id": "07aa1444",
   "metadata": {},
   "source": [
    "# Jupyter Notebook Demo\n",
    "This is an example Jupyter notebook. See if you can run the code cell below"
   ]
  },
  {
   "cell_type": "code",
   "execution_count": null,
   "id": "fa574258",
   "metadata": {},
   "outputs": [],
   "source": []
  }
 ],
 "metadata": {
  "kernelspec": {
   "display_name": "Python 3",
   "language": "python",
   "name": "python3"
  },
  "language_info": {
   "name": "python",
   "version": "3.13.3"
  }
 },
 "nbformat": 4,
 "nbformat_minor": 5
}
